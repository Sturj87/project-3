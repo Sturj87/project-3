{
 "cells": [
  {
   "cell_type": "code",
   "execution_count": 56,
   "id": "cd110cb3",
   "metadata": {},
   "outputs": [
    {
     "name": "stdout",
     "output_type": "stream",
     "text": [
      "Populating the interactive namespace from numpy and matplotlib\n"
     ]
    }
   ],
   "source": [
    "%pylab inline\n",
    "import sqlite3\n",
    "import pandas as pd \n",
    "from pandas import Series, DataFrame"
   ]
  },
  {
   "cell_type": "code",
   "execution_count": 67,
   "id": "7cc79ce0",
   "metadata": {},
   "outputs": [
    {
     "data": {
      "text/html": [
       "<div>\n",
       "<style scoped>\n",
       "    .dataframe tbody tr th:only-of-type {\n",
       "        vertical-align: middle;\n",
       "    }\n",
       "\n",
       "    .dataframe tbody tr th {\n",
       "        vertical-align: top;\n",
       "    }\n",
       "\n",
       "    .dataframe thead th {\n",
       "        text-align: right;\n",
       "    }\n",
       "</style>\n",
       "<table border=\"1\" class=\"dataframe\">\n",
       "  <thead>\n",
       "    <tr style=\"text-align: right;\">\n",
       "      <th></th>\n",
       "      <th>LastName</th>\n",
       "      <th>FirstName</th>\n",
       "      <th>Name</th>\n",
       "      <th>Title</th>\n",
       "    </tr>\n",
       "  </thead>\n",
       "  <tbody>\n",
       "    <tr>\n",
       "      <th>0</th>\n",
       "      <td>Almeida</td>\n",
       "      <td>Roberto</td>\n",
       "      <td>For Those About To Rock (We Salute You)</td>\n",
       "      <td>For Those About To Rock We Salute You</td>\n",
       "    </tr>\n",
       "    <tr>\n",
       "      <th>1</th>\n",
       "      <td>Barnett</td>\n",
       "      <td>Julia</td>\n",
       "      <td>Balls to the Wall</td>\n",
       "      <td>Balls to the Wall</td>\n",
       "    </tr>\n",
       "    <tr>\n",
       "      <th>2</th>\n",
       "      <td>Bernard</td>\n",
       "      <td>Camille</td>\n",
       "      <td>Fast As a Shark</td>\n",
       "      <td>Restless and Wild</td>\n",
       "    </tr>\n",
       "    <tr>\n",
       "      <th>3</th>\n",
       "      <td>Brooks</td>\n",
       "      <td>Michelle</td>\n",
       "      <td>Restless and Wild</td>\n",
       "      <td>Let There Be Rock</td>\n",
       "    </tr>\n",
       "    <tr>\n",
       "      <th>4</th>\n",
       "      <td>Brown</td>\n",
       "      <td>Robert</td>\n",
       "      <td>Princess of the Dawn</td>\n",
       "      <td>Big Ones</td>\n",
       "    </tr>\n",
       "  </tbody>\n",
       "</table>\n",
       "</div>"
      ],
      "text/plain": [
       "  LastName FirstName                                     Name  \\\n",
       "0  Almeida   Roberto  For Those About To Rock (We Salute You)   \n",
       "1  Barnett     Julia                        Balls to the Wall   \n",
       "2  Bernard   Camille                          Fast As a Shark   \n",
       "3   Brooks  Michelle                        Restless and Wild   \n",
       "4    Brown    Robert                     Princess of the Dawn   \n",
       "\n",
       "                                   Title  \n",
       "0  For Those About To Rock We Salute You  \n",
       "1                      Balls to the Wall  \n",
       "2                      Restless and Wild  \n",
       "3                      Let There Be Rock  \n",
       "4                               Big Ones  "
      ]
     },
     "execution_count": 67,
     "metadata": {},
     "output_type": "execute_result"
    }
   ],
   "source": [
    "# Connect to your database\n",
    "conn = sqlite3.connect('chinook.db')  \n",
    "\n",
    "# Define your SQL queries\n",
    "\n",
    "sql_queries = [\n",
    "    \"\"\"\n",
    "    SELECT LastName, FirstName\n",
    "    FROM Customer\n",
    "    ORDER BY LastName, FirstName\n",
    "    \"\"\",\n",
    "    \"\"\"\n",
    "    SELECT Name\n",
    "    FROM Track\n",
    "    \"\"\",\n",
    "    \"\"\"\n",
    "    SELECT Title\n",
    "    FROM Album\n",
    "    \"\"\"\n",
    "]\n",
    "\n",
    "# Execute each query and read the results into a Pandas DataFrame\n",
    "dfs = []\n",
    "for query in sql_queries:\n",
    "    df = pd.read_sql_query(query, conn)\n",
    "    dfs.append(df)\n",
    "\n",
    "# Concatenate the DataFrames into a single DataFrame\n",
    "updated_df = pd.concat(dfs, axis=1)\n",
    "\n",
    "\n",
    "# Display the resulting DataFrame\n",
    "updated_df.head()\n"
   ]
  },
  {
   "cell_type": "code",
   "execution_count": null,
   "id": "3687af91",
   "metadata": {},
   "outputs": [],
   "source": []
  }
 ],
 "metadata": {
  "kernelspec": {
   "display_name": "Python 3 (ipykernel)",
   "language": "python",
   "name": "python3"
  },
  "language_info": {
   "codemirror_mode": {
    "name": "ipython",
    "version": 3
   },
   "file_extension": ".py",
   "mimetype": "text/x-python",
   "name": "python",
   "nbconvert_exporter": "python",
   "pygments_lexer": "ipython3",
   "version": "3.9.13"
  }
 },
 "nbformat": 4,
 "nbformat_minor": 5
}
